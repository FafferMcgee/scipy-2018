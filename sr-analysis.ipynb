{
 "cells": [
  {
   "cell_type": "markdown",
   "metadata": {},
   "source": [
    "# Resurrecting ancient steriod receptors"
   ]
  },
  {
   "cell_type": "code",
   "execution_count": null,
   "metadata": {},
   "outputs": [],
   "source": [
    "from phylogenetics import PhylogeneticsProject\n",
    "from phylovega import VegaTree"
   ]
  },
  {
   "cell_type": "markdown",
   "metadata": {},
   "source": [
    "```python\n",
    "# Initialize a project\n",
    "p = PhylogeneticsProject('shr-data', overwrite=True)\n",
    "\n",
    "# Read data.\n",
    "p.read_data('data/SR213.fasta', schema='fasta')\n",
    "\n",
    "# Compute the tree.\n",
    "p.compute_tree()\n",
    "\n",
    "# Compute a reconstruction\n",
    "p.compute_reconstruction()\n",
    "\n",
    "# Save project\n",
    "p.to_pickle(\"shr-data/saved.pickle\")\n",
    "```"
   ]
  },
  {
   "cell_type": "markdown",
   "metadata": {},
   "source": [
    "To save on time (reconstruction takes ~30 minutes), I'll load the project from disk. "
   ]
  },
  {
   "cell_type": "code",
   "execution_count": null,
   "metadata": {},
   "outputs": [],
   "source": [
    "p = PhylogeneticsProject.load_pickle('shr-data/saved.pickle')"
   ]
  },
  {
   "cell_type": "code",
   "execution_count": null,
   "metadata": {},
   "outputs": [],
   "source": [
    "p.data"
   ]
  },
  {
   "cell_type": "code",
   "execution_count": null,
   "metadata": {},
   "outputs": [],
   "source": [
    "VegaTree(p.data).display()"
   ]
  },
  {
   "cell_type": "code",
   "execution_count": null,
   "metadata": {},
   "outputs": [],
   "source": [
    "from IPython.display import Image\n",
    "Image(filename=\"slides/img/sr-tree.png\", width=300)"
   ]
  },
  {
   "cell_type": "code",
   "execution_count": null,
   "metadata": {},
   "outputs": [],
   "source": []
  }
 ],
 "metadata": {
  "kernelspec": {
   "display_name": "omnipotent (Python 3.6)",
   "language": "python",
   "name": "omnipotent"
  },
  "language_info": {
   "codemirror_mode": {
    "name": "ipython",
    "version": 3
   },
   "file_extension": ".py",
   "mimetype": "text/x-python",
   "name": "python",
   "nbconvert_exporter": "python",
   "pygments_lexer": "ipython3",
   "version": "3.6.5"
  }
 },
 "nbformat": 4,
 "nbformat_minor": 2
}
