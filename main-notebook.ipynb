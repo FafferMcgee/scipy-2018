{
 "cells": [
  {
   "cell_type": "code",
   "execution_count": 1,
   "metadata": {},
   "outputs": [],
   "source": [
    "import time\n",
    "from phylogenetics import PhylogeneticsProject"
   ]
  },
  {
   "cell_type": "code",
   "execution_count": 2,
   "metadata": {},
   "outputs": [],
   "source": [
    "path = \"project\"\n",
    "p = PhylogeneticsProject(path, overwrite=True)"
   ]
  },
  {
   "cell_type": "code",
   "execution_count": 3,
   "metadata": {},
   "outputs": [
    {
     "data": {
      "text/plain": [
       "PhylogeneticsProject(project_dir=project)\n",
       "    last modified\t2018-07-07 15:09:10\n",
       "    last edit\t\tread_data\n",
       "    tips\t\tTrue\n",
       "        - num of tips\t27\n",
       "    ancs\t\tFalse\n",
       "    tree\t\tFalse"
      ]
     },
     "execution_count": 3,
     "metadata": {},
     "output_type": "execute_result"
    }
   ],
   "source": [
    "p.read_data(dtype=\"tips\", path=\"SR213-x.fasta\", schema=\"fasta\")"
   ]
  },
  {
   "cell_type": "code",
   "execution_count": 4,
   "metadata": {},
   "outputs": [],
   "source": [
    "start = time.time()\n",
    "p.compute_tree()\n",
    "stop = time.time()"
   ]
  },
  {
   "cell_type": "code",
   "execution_count": 5,
   "metadata": {},
   "outputs": [],
   "source": [
    "diff = stop - start"
   ]
  },
  {
   "cell_type": "code",
   "execution_count": 6,
   "metadata": {},
   "outputs": [
    {
     "data": {
      "application/vnd.vega.v3+json": {
       "$schema": "https://vega.github.io/schema/vega/v3.json",
       "data": [
        {
         "name": "tree",
         "transform": [
          {
           "key": "id",
           "parentKey": "parent",
           "type": "stratify"
          },
          {
           "as": [
            "y0",
            "x0",
            "depth0",
            "children0"
           ],
           "method": "cluster",
           "size": [
            {
             "signal": "height"
            },
            {
             "signal": "width - 100"
            }
           ],
           "type": "tree"
          },
          {
           "as": [
            "y",
            "x",
            "depth",
            "children"
           ],
           "method": "cluster",
           "size": [
            {
             "signal": "height"
            },
            {
             "signal": "width - 100"
            }
           ],
           "type": "tree"
          },
          {
           "as": "x",
           "expr": "datum.distance * branchScale",
           "type": "formula"
          },
          {
           "as": "y",
           "expr": "datum.y0 * (heightScale / 100)",
           "type": "formula"
          }
         ],
         "values": [
          {
           "children": 3,
           "children0": 3,
           "depth": 0,
           "depth0": 0,
           "distance": 0,
           "id": "0",
           "label": "0",
           "length": 0,
           "parent": null,
           "type": "root",
           "x": 0,
           "x0": 0,
           "y": 66.38500457114363,
           "y0": 66.38500457114363
          },
          {
           "children": 0,
           "children0": 0,
           "depth": 1,
           "depth0": 1,
           "distance": 0.29859311,
           "id": ">tip0000020",
           "label": ">tip0000020",
           "length": 0.29859311,
           "parent": "0",
           "type": "leaf",
           "x": 44.7889665,
           "x0": 900,
           "y": 11.48936170212766,
           "y0": 11.48936170212766
          },
          {
           "children": 2,
           "children0": 2,
           "depth": 1,
           "depth0": 1,
           "distance": 0.33482571,
           "id": "1",
           "label": "1",
           "length": 0.33482571,
           "parent": "0",
           "type": "node",
           "x": 50.2238565,
           "x0": 835.7142857142858,
           "y": 40.212765957446805,
           "y0": 40.212765957446805
          },
          {
           "children": 0,
           "children0": 0,
           "depth": 2,
           "depth0": 2,
           "distance": 0.35767793999999997,
           "id": ">tip0000019",
           "label": ">tip0000019",
           "length": 0.02285223,
           "parent": "1",
           "type": "leaf",
           "x": 53.65169099999999,
           "x0": 900,
           "y": 34.46808510638298,
           "y0": 34.46808510638298
          },
          {
           "children": 0,
           "children0": 0,
           "depth": 2,
           "depth0": 2,
           "distance": 0.34559612,
           "id": ">tip0000012",
           "label": ">tip0000012",
           "length": 0.01077041,
           "parent": "1",
           "type": "leaf",
           "x": 51.839418,
           "x0": 900,
           "y": 45.95744680851064,
           "y0": 45.95744680851064
          },
          {
           "children": 2,
           "children0": 2,
           "depth": 1,
           "depth0": 1,
           "distance": 0.11515557,
           "id": "2",
           "label": "2",
           "length": 0.11515557,
           "parent": "0",
           "type": "node",
           "x": 17.273335499999998,
           "x0": 64.28571428571426,
           "y": 147.4528860538564,
           "y0": 147.4528860538564
          },
          {
           "children": 2,
           "children0": 2,
           "depth": 2,
           "depth0": 2,
           "distance": 0.33111235,
           "id": "3",
           "label": "3",
           "length": 0.21595678,
           "parent": "2",
           "type": "node",
           "x": 49.6668525,
           "x0": 642.8571428571429,
           "y": 89.76063829787233,
           "y0": 89.76063829787233
          },
          {
           "children": 0,
           "children0": 0,
           "depth": 3,
           "depth0": 3,
           "distance": 0.5081680399999999,
           "id": ">tip0000017",
           "label": ">tip0000017",
           "length": 0.17705569,
           "parent": "3",
           "type": "leaf",
           "x": 76.22520599999999,
           "x0": 900,
           "y": 68.93617021276596,
           "y0": 68.93617021276596
          },
          {
           "children": 2,
           "children0": 2,
           "depth": 3,
           "depth0": 3,
           "distance": 0.37383564999999996,
           "id": "4",
           "label": "4",
           "length": 0.0427233,
           "parent": "3",
           "type": "node",
           "x": 56.07534749999999,
           "x0": 707.1428571428571,
           "y": 110.58510638297872,
           "y0": 110.58510638297872
          },
          {
           "children": 0,
           "children0": 0,
           "depth": 4,
           "depth0": 4,
           "distance": 0.40662847999999996,
           "id": ">tip0000000",
           "label": ">tip0000000",
           "length": 0.03279283,
           "parent": "4",
           "type": "leaf",
           "x": 60.994271999999995,
           "x0": 900,
           "y": 91.91489361702128,
           "y0": 91.91489361702128
          },
          {
           "children": 2,
           "children0": 2,
           "depth": 4,
           "depth0": 4,
           "distance": 0.40180311999999996,
           "id": "5",
           "label": "5",
           "length": 0.02796747,
           "parent": "4",
           "type": "node",
           "x": 60.270467999999994,
           "x0": 771.4285714285714,
           "y": 129.25531914893617,
           "y0": 129.25531914893617
          },
          {
           "children": 0,
           "children0": 0,
           "depth": 5,
           "depth0": 5,
           "distance": 0.47055397,
           "id": ">tip0000023",
           "label": ">tip0000023",
           "length": 0.06875085,
           "parent": "5",
           "type": "leaf",
           "x": 70.5830955,
           "x0": 900,
           "y": 114.8936170212766,
           "y0": 114.8936170212766
          },
          {
           "children": 2,
           "children0": 2,
           "depth": 5,
           "depth0": 5,
           "distance": 0.4140639,
           "id": "6",
           "label": "6",
           "length": 0.01226078,
           "parent": "5",
           "type": "node",
           "x": 62.109584999999996,
           "x0": 835.7142857142858,
           "y": 143.61702127659575,
           "y0": 143.61702127659575
          },
          {
           "children": 0,
           "children0": 0,
           "depth": 6,
           "depth0": 6,
           "distance": 0.53257606,
           "id": ">tip0000006",
           "label": ">tip0000006",
           "length": 0.11851216,
           "parent": "6",
           "type": "leaf",
           "x": 79.886409,
           "x0": 900,
           "y": 137.87234042553192,
           "y0": 137.87234042553192
          },
          {
           "children": 0,
           "children0": 0,
           "depth": 6,
           "depth0": 6,
           "distance": 0.47126273999999996,
           "id": ">tip0000007",
           "label": ">tip0000007",
           "length": 0.05719884,
           "parent": "6",
           "type": "leaf",
           "x": 70.68941099999999,
           "x0": 900,
           "y": 149.36170212765958,
           "y0": 149.36170212765958
          },
          {
           "children": 2,
           "children0": 2,
           "depth": 2,
           "depth0": 2,
           "distance": 0.16546094,
           "id": "7",
           "label": "7",
           "length": 0.05030537,
           "parent": "2",
           "type": "node",
           "x": 24.819141000000002,
           "x0": 128.5714285714286,
           "y": 205.14513380984042,
           "y0": 205.14513380984042
          },
          {
           "children": 2,
           "children0": 2,
           "depth": 3,
           "depth0": 3,
           "distance": 0.28207675,
           "id": "8",
           "label": "8",
           "length": 0.11661581,
           "parent": "7",
           "type": "node",
           "x": 42.3115125,
           "x0": 835.7142857142858,
           "y": 178.08510638297872,
           "y0": 178.08510638297872
          },
          {
           "children": 0,
           "children0": 0,
           "depth": 4,
           "depth0": 4,
           "distance": 0.32517038,
           "id": ">tip0000004",
           "label": ">tip0000004",
           "length": 0.04309363,
           "parent": "8",
           "type": "leaf",
           "x": 48.775557,
           "x0": 900,
           "y": 172.3404255319149,
           "y0": 172.3404255319149
          },
          {
           "children": 0,
           "children0": 0,
           "depth": 4,
           "depth0": 4,
           "distance": 0.33784042,
           "id": ">tip0000021",
           "label": ">tip0000021",
           "length": 0.05576367,
           "parent": "8",
           "type": "leaf",
           "x": 50.676063,
           "x0": 900,
           "y": 183.82978723404256,
           "y0": 183.82978723404256
          },
          {
           "children": 2,
           "children0": 2,
           "depth": 3,
           "depth0": 3,
           "distance": 0.95088907,
           "id": "9",
           "label": "9",
           "length": 0.78542813,
           "parent": "7",
           "type": "node",
           "x": 142.6333605,
           "x0": 192.85714285714286,
           "y": 232.20516123670214,
           "y0": 232.20516123670214
          },
          {
           "children": 0,
           "children0": 0,
           "depth": 4,
           "depth0": 4,
           "distance": 1.8047566800000001,
           "id": ">tip0000014",
           "label": ">tip0000014",
           "length": 0.85386761,
           "parent": "9",
           "type": "leaf",
           "x": 270.713502,
           "x0": 900,
           "y": 206.80851063829786,
           "y0": 206.80851063829786
          },
          {
           "children": 2,
           "children0": 2,
           "depth": 4,
           "depth0": 4,
           "distance": 1.23484856,
           "id": "10",
           "label": "10",
           "length": 0.28395949,
           "parent": "9",
           "type": "node",
           "x": 185.22728400000003,
           "x0": 257.1428571428571,
           "y": 257.6018118351064,
           "y0": 257.6018118351064
          },
          {
           "children": 0,
           "children0": 0,
           "depth": 5,
           "depth0": 5,
           "distance": 1.9241325200000001,
           "id": ">tip0000022",
           "label": ">tip0000022",
           "length": 0.68928396,
           "parent": "10",
           "type": "leaf",
           "x": 288.619878,
           "x0": 900,
           "y": 229.7872340425532,
           "y0": 229.7872340425532
          },
          {
           "children": 2,
           "children0": 2,
           "depth": 5,
           "depth0": 5,
           "distance": 1.35462314,
           "id": "11",
           "label": "11",
           "length": 0.11977458,
           "parent": "10",
           "type": "node",
           "x": 203.193471,
           "x0": 321.4285714285714,
           "y": 285.41638962765956,
           "y0": 285.41638962765956
          },
          {
           "children": 0,
           "children0": 0,
           "depth": 6,
           "depth0": 6,
           "distance": 2.0834647,
           "id": ">tip0000015",
           "label": ">tip0000015",
           "length": 0.72884156,
           "parent": "11",
           "type": "leaf",
           "x": 312.519705,
           "x0": 900,
           "y": 252.76595744680853,
           "y0": 252.76595744680853
          },
          {
           "children": 2,
           "children0": 2,
           "depth": 6,
           "depth0": 6,
           "distance": 1.46340307,
           "id": "12",
           "label": "12",
           "length": 0.10877993,
           "parent": "11",
           "type": "node",
           "x": 219.5104605,
           "x0": 385.7142857142857,
           "y": 318.06682180851067,
           "y0": 318.06682180851067
          },
          {
           "children": 0,
           "children0": 0,
           "depth": 7,
           "depth0": 7,
           "distance": 2.5453190400000003,
           "id": ">tip0000013",
           "label": ">tip0000013",
           "length": 1.08191597,
           "parent": "12",
           "type": "leaf",
           "x": 381.797856,
           "x0": 900,
           "y": 275.74468085106383,
           "y0": 275.74468085106383
          },
          {
           "children": 2,
           "children0": 2,
           "depth": 7,
           "depth0": 7,
           "distance": 1.57133697,
           "id": "13",
           "label": "13",
           "length": 0.1079339,
           "parent": "12",
           "type": "node",
           "x": 235.7005455,
           "x0": 450,
           "y": 360.38896276595744,
           "y0": 360.38896276595744
          },
          {
           "children": 0,
           "children0": 0,
           "depth": 8,
           "depth0": 8,
           "distance": 2.36387654,
           "id": ">tip0000009",
           "label": ">tip0000009",
           "length": 0.79253957,
           "parent": "13",
           "type": "leaf",
           "x": 354.581481,
           "x0": 900,
           "y": 298.72340425531917,
           "y0": 298.72340425531917
          },
          {
           "children": 2,
           "children0": 2,
           "depth": 8,
           "depth0": 8,
           "distance": 1.8198615399999998,
           "id": "14",
           "label": "14",
           "length": 0.24852457,
           "parent": "13",
           "type": "node",
           "x": 272.97923099999997,
           "x0": 514.2857142857142,
           "y": 422.0545212765957,
           "y0": 422.0545212765957
          },
          {
           "children": 2,
           "children0": 2,
           "depth": 9,
           "depth0": 9,
           "distance": 1.87898606,
           "id": "15",
           "label": "15",
           "length": 0.05912452,
           "parent": "14",
           "type": "node",
           "x": 281.84790899999996,
           "x0": 578.5714285714286,
           "y": 354.375,
           "y0": 354.375
          },
          {
           "children": 2,
           "children0": 2,
           "depth": 10,
           "depth0": 10,
           "distance": 2.09517468,
           "id": "16",
           "label": "16",
           "length": 0.21618862,
           "parent": "15",
           "type": "node",
           "x": 314.276202,
           "x0": 835.7142857142858,
           "y": 327.44680851063833,
           "y0": 327.44680851063833
          },
          {
           "children": 0,
           "children0": 0,
           "depth": 11,
           "depth0": 11,
           "distance": 2.1689376400000002,
           "id": ">tip0000024",
           "label": ">tip0000024",
           "length": 0.07376296,
           "parent": "16",
           "type": "leaf",
           "x": 325.34064600000005,
           "x0": 900,
           "y": 321.70212765957444,
           "y0": 321.70212765957444
          },
          {
           "children": 0,
           "children0": 0,
           "depth": 11,
           "depth0": 11,
           "distance": 2.2053174700000002,
           "id": ">tip0000001",
           "label": ">tip0000001",
           "length": 0.11014279,
           "parent": "16",
           "type": "leaf",
           "x": 330.79762050000005,
           "x0": 900,
           "y": 333.1914893617021,
           "y0": 333.1914893617021
          },
          {
           "children": 2,
           "children0": 2,
           "depth": 10,
           "depth0": 10,
           "distance": 2.03873663,
           "id": "17",
           "label": "17",
           "length": 0.15975057,
           "parent": "15",
           "type": "node",
           "x": 305.81049449999995,
           "x0": 642.8571428571429,
           "y": 381.30319148936167,
           "y0": 381.30319148936167
          },
          {
           "children": 0,
           "children0": 0,
           "depth": 11,
           "depth0": 11,
           "distance": 2.17057468,
           "id": ">tip0000011",
           "label": ">tip0000011",
           "length": 0.13183805,
           "parent": "17",
           "type": "leaf",
           "x": 325.586202,
           "x0": 900,
           "y": 356.17021276595744,
           "y0": 356.17021276595744
          },
          {
           "children": 2,
           "children0": 2,
           "depth": 11,
           "depth0": 11,
           "distance": 2.12694946,
           "id": "18",
           "label": "18",
           "length": 0.08821283,
           "parent": "17",
           "type": "node",
           "x": 319.042419,
           "x0": 707.1428571428571,
           "y": 406.43617021276594,
           "y0": 406.43617021276594
          },
          {
           "children": 2,
           "children0": 2,
           "depth": 12,
           "depth0": 12,
           "distance": 2.18387334,
           "id": "19",
           "label": "19",
           "length": 0.05692388,
           "parent": "18",
           "type": "node",
           "x": 327.58100099999996,
           "x0": 835.7142857142858,
           "y": 384.89361702127655,
           "y0": 384.89361702127655
          },
          {
           "children": 0,
           "children0": 0,
           "depth": 13,
           "depth0": 13,
           "distance": 2.19178227,
           "id": ">tip0000026",
           "label": ">tip0000026",
           "length": 0.00790893,
           "parent": "19",
           "type": "leaf",
           "x": 328.7673405,
           "x0": 900,
           "y": 379.1489361702128,
           "y0": 379.1489361702128
          },
          {
           "children": 0,
           "children0": 0,
           "depth": 13,
           "depth0": 13,
           "distance": 2.21501815,
           "id": ">tip0000016",
           "label": ">tip0000016",
           "length": 0.03114481,
           "parent": "19",
           "type": "leaf",
           "x": 332.2527225,
           "x0": 900,
           "y": 390.63829787234044,
           "y0": 390.63829787234044
          },
          {
           "children": 2,
           "children0": 2,
           "depth": 12,
           "depth0": 12,
           "distance": 2.1731075200000003,
           "id": "20",
           "label": "20",
           "length": 0.04615806,
           "parent": "18",
           "type": "node",
           "x": 325.966128,
           "x0": 771.4285714285714,
           "y": 427.9787234042553,
           "y0": 427.9787234042553
          },
          {
           "children": 0,
           "children0": 0,
           "depth": 13,
           "depth0": 13,
           "distance": 2.21944271,
           "id": ">tip0000008",
           "label": ">tip0000008",
           "length": 0.04633519,
           "parent": "20",
           "type": "leaf",
           "x": 332.9164065,
           "x0": 900,
           "y": 413.6170212765957,
           "y0": 413.6170212765957
          },
          {
           "children": 2,
           "children0": 2,
           "depth": 13,
           "depth0": 13,
           "distance": 2.24491577,
           "id": "21",
           "label": "21",
           "length": 0.07180825,
           "parent": "20",
           "type": "node",
           "x": 336.7373655,
           "x0": 835.7142857142858,
           "y": 442.3404255319149,
           "y0": 442.3404255319149
          },
          {
           "children": 0,
           "children0": 0,
           "depth": 14,
           "depth0": 14,
           "distance": 2.30950061,
           "id": ">tip0000025",
           "label": ">tip0000025",
           "length": 0.06458484,
           "parent": "21",
           "type": "leaf",
           "x": 346.4250915,
           "x0": 900,
           "y": 436.59574468085106,
           "y0": 436.59574468085106
          },
          {
           "children": 0,
           "children0": 0,
           "depth": 14,
           "depth0": 14,
           "distance": 2.35139444,
           "id": ">tip0000002",
           "label": ">tip0000002",
           "length": 0.10647867,
           "parent": "21",
           "type": "leaf",
           "x": 352.709166,
           "x0": 900,
           "y": 448.0851063829787,
           "y0": 448.0851063829787
          },
          {
           "children": 2,
           "children0": 2,
           "depth": 9,
           "depth0": 9,
           "distance": 1.9027050399999998,
           "id": "22",
           "label": "22",
           "length": 0.0828435,
           "parent": "14",
           "type": "node",
           "x": 285.405756,
           "x0": 707.1428571428571,
           "y": 489.7340425531915,
           "y0": 489.7340425531915
          },
          {
           "children": 0,
           "children0": 0,
           "depth": 10,
           "depth0": 10,
           "distance": 1.9997937000000001,
           "id": ">tip0000005",
           "label": ">tip0000005",
           "length": 0.09708866,
           "parent": "22",
           "type": "leaf",
           "x": 299.969055,
           "x0": 900,
           "y": 471.06382978723406,
           "y0": 471.06382978723406
          },
          {
           "children": 2,
           "children0": 2,
           "depth": 10,
           "depth0": 10,
           "distance": 1.92207778,
           "id": "23",
           "label": "23",
           "length": 0.01937274,
           "parent": "22",
           "type": "node",
           "x": 288.311667,
           "x0": 771.4285714285714,
           "y": 508.40425531914894,
           "y0": 508.40425531914894
          },
          {
           "children": 0,
           "children0": 0,
           "depth": 11,
           "depth0": 11,
           "distance": 1.9392435799999999,
           "id": ">tip0000003",
           "label": ">tip0000003",
           "length": 0.0171658,
           "parent": "23",
           "type": "leaf",
           "x": 290.886537,
           "x0": 900,
           "y": 494.04255319148933,
           "y0": 494.04255319148933
          },
          {
           "children": 2,
           "children0": 2,
           "depth": 11,
           "depth0": 11,
           "distance": 1.9557383000000002,
           "id": "24",
           "label": "24",
           "length": 0.03366052,
           "parent": "23",
           "type": "node",
           "x": 293.360745,
           "x0": 835.7142857142858,
           "y": 522.7659574468086,
           "y0": 522.7659574468086
          },
          {
           "children": 0,
           "children0": 0,
           "depth": 12,
           "depth0": 12,
           "distance": 1.9801072299999998,
           "id": ">tip0000018",
           "label": ">tip0000018",
           "length": 0.02436893,
           "parent": "24",
           "type": "leaf",
           "x": 297.0160845,
           "x0": 900,
           "y": 517.0212765957447,
           "y0": 517.0212765957447
          },
          {
           "children": 0,
           "children0": 0,
           "depth": 12,
           "depth0": 12,
           "distance": 1.96496081,
           "id": ">tip0000010",
           "label": ">tip0000010",
           "length": 0.00922251,
           "parent": "24",
           "type": "leaf",
           "x": 294.7441215,
           "x0": 900,
           "y": 528.5106382978723,
           "y0": 528.5106382978723
          }
         ]
        },
        {
         "name": "links",
         "source": "tree",
         "transform": [
          {
           "key": "id",
           "type": "treelinks"
          },
          {
           "orient": "horizontal",
           "shape": "orthogonal",
           "type": "linkpath"
          }
         ]
        },
        {
         "name": "nodes",
         "source": "tree",
         "transform": [
          {
           "expr": "datum.type == 'node'",
           "type": "filter"
          }
         ]
        },
        {
         "name": "leaves",
         "source": "tree",
         "transform": [
          {
           "expr": "datum.type == 'leaf'",
           "type": "filter"
          }
         ]
        }
       ],
       "height": 540,
       "marks": [
        {
         "encode": {
          "update": {
           "path": {
            "field": "path"
           },
           "stroke": {
            "value": "#ccc"
           },
           "strokeWidth": {
            "value": 3
           }
          }
         },
         "from": {
          "data": "links"
         },
         "type": "path"
        },
        {
         "encode": {
          "enter": {
           "size": {
            "value": 70
           },
           "stroke": {
            "value": "#000"
           }
          },
          "update": {
           "fill": {
            "value": "#000"
           },
           "x": {
            "field": "x"
           },
           "y": {
            "field": "y"
           }
          }
         },
         "from": {
          "data": "nodes"
         },
         "name": "ancestor",
         "type": "symbol"
        },
        {
         "encode": {
          "enter": {
           "fill": {
            "value": "#000"
           },
           "text": {
            "field": "label"
           }
          },
          "update": {
           "dx": {
            "value": 2
           },
           "dy": {
            "value": 3
           },
           "x": {
            "field": "x"
           },
           "y": {
            "field": "y"
           }
          }
         },
         "from": {
          "data": "leaves"
         },
         "type": "text"
        }
       ],
       "padding": 5,
       "scales": [
        {
         "domain": {
          "data": "tree",
          "field": "depth"
         },
         "name": "color",
         "range": {
          "scheme": "magma"
         },
         "type": "sequential",
         "zero": true
        }
       ],
       "signals": [
        {
         "bind": {
          "input": "range",
          "max": 500,
          "min": 0,
          "step": 50
         },
         "name": "branchScale",
         "value": 200
        },
        {
         "bind": {
          "input": "range",
          "max": 100,
          "min": 0,
          "step": 5
         },
         "name": "heightScale",
         "value": 100
        },
        {
         "name": "cladify",
         "on": [
          {
           "events": "@ancestor:mousedown, @ancestor:touchstart",
           "update": "datum"
          }
         ],
         "value": "datum"
        }
       ],
       "width": 1000
      },
      "image/png": "[encoded data removed]"
     },
     "metadata": {},
     "output_type": "display_data"
    }
   ],
   "source": [
    "p.show()"
   ]
  },
  {
   "cell_type": "code",
   "execution_count": null,
   "metadata": {},
   "outputs": [],
   "source": []
  }
 ],
 "metadata": {
  "kernelspec": {
   "display_name": "phylo-env (Python 3.6)",
   "language": "python",
   "name": "phylo-env"
  },
  "language_info": {
   "codemirror_mode": {
    "name": "ipython",
    "version": 3
   },
   "file_extension": ".py",
   "mimetype": "text/x-python",
   "name": "python",
   "nbconvert_exporter": "python",
   "pygments_lexer": "ipython3",
   "version": "3.6.6"
  }
 },
 "nbformat": 4,
 "nbformat_minor": 2
}
